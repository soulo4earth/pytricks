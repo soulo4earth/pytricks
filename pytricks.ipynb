{
 "cells": [
  {
   "cell_type": "markdown",
   "metadata": {},
   "source": [
    "# Patterns for Cleaner Python\n",
    "\n",
    "## Assertion\n",
    "\n",
    "assertion is about unrecoverable errors; while exception can happen and needs to be handled. assertion helps debug but not runtime errors. the python interpreter translate \n",
    "\n",
    "```python\n",
    "assert expression1, expression2\n",
    "```\n",
    "\n",
    "to\n",
    "\n",
    "```python\n",
    "if __debug__:       # global variable, False when optimized\n",
    "    if not expression1:\n",
    "        raise AssertionError(expression2)\n",
    "```\n",
    "\n",
    "\n",
    "assert is globally disabled with -o, -oo command line swithes, and PYTHONOPTIMIZE enviroment variable in CPython, in which case assert is compiled away. So be sure not use assert for prod validation of data."
   ]
  },
  {
   "cell_type": "code",
   "execution_count": 4,
   "metadata": {},
   "outputs": [],
   "source": [
    "# never pass a tuple as first argument in assert, it will never fail:\n",
    "assert (1==2, 'this will never fail')"
   ]
  },
  {
   "cell_type": "markdown",
   "metadata": {},
   "source": [
    "## Complacent Comma Placement\n",
    "\n",
    "one item per line, use comma."
   ]
  },
  {
   "cell_type": "code",
   "execution_count": 5,
   "metadata": {},
   "outputs": [],
   "source": [
    "names = [\n",
    "    'alice',\n",
    "    'bob',\n",
    "    'charlie',\n",
    "    'jane',\n",
    "]"
   ]
  },
  {
   "cell_type": "markdown",
   "metadata": {},
   "source": [
    "## Context Managers and the `with` Statement\n",
    "\n",
    "`with` helps with resource management. It simplifies explicity 'try... finally' statement.\n",
    "\n",
    "### supporting `with` in objects\n",
    "\n",
    "implement `__enter__` and `__exit__` context manager. python calls `__enter__` when execution enters the context of `with`, then call `__exit__` when resource got freed.\n",
    "\n"
   ]
  },
  {
   "cell_type": "code",
   "execution_count": 6,
   "metadata": {},
   "outputs": [],
   "source": [
    "class ManageFile:\n",
    "    def __init__(self, name):\n",
    "        self.name = name\n",
    "\n",
    "    def __enter__(self):\n",
    "        self.file = open(self.name, 'w')\n",
    "        return self.file\n",
    "\n",
    "    def __exit__(self):\n",
    "        if self.file:\n",
    "            self.file.close()"
   ]
  },
  {
   "cell_type": "markdown",
   "metadata": {},
   "source": [
    "another way is to use std library `contextlib.contextmanager` decorator to define a generator-based factory function for resource. It will automatically support with statement."
   ]
  },
  {
   "cell_type": "code",
   "execution_count": 8,
   "metadata": {},
   "outputs": [],
   "source": [
    "from contextlib import contextmanager\n",
    "\n",
    "@contextmanager\n",
    "def managed_file(name):\n",
    "    try:\n",
    "        f = open(name, 'w')\n",
    "        yield f\n",
    "    finally:\n",
    "        f.close()\n",
    "\n",
    "with managed_file('hello.txt') as f:\n",
    "    f.write('hw')"
   ]
  },
  {
   "cell_type": "code",
   "execution_count": 11,
   "metadata": {},
   "outputs": [
    {
     "output_type": "stream",
     "name": "stdout",
     "text": "None\n"
    },
    {
     "output_type": "error",
     "ename": "AttributeError",
     "evalue": "'NoneType' object has no attribute 'print'",
     "traceback": [
      "\u001b[0;31m---------------------------------------------------------------------------\u001b[0m",
      "\u001b[0;31mAttributeError\u001b[0m                            Traceback (most recent call last)",
      "\u001b[0;32m<ipython-input-11-8df5b71e45aa>\u001b[0m in \u001b[0;36m<module>\u001b[0;34m\u001b[0m\n\u001b[1;32m     14\u001b[0m \u001b[0;32mwith\u001b[0m \u001b[0mIndenter\u001b[0m\u001b[0;34m(\u001b[0m\u001b[0;34m)\u001b[0m \u001b[0;32mas\u001b[0m \u001b[0mindent\u001b[0m\u001b[0;34m:\u001b[0m\u001b[0;34m\u001b[0m\u001b[0;34m\u001b[0m\u001b[0m\n\u001b[1;32m     15\u001b[0m     \u001b[0mprint\u001b[0m\u001b[0;34m(\u001b[0m\u001b[0mindent\u001b[0m\u001b[0;34m)\u001b[0m\u001b[0;34m\u001b[0m\u001b[0;34m\u001b[0m\u001b[0m\n\u001b[0;32m---> 16\u001b[0;31m     \u001b[0mindent\u001b[0m\u001b[0;34m.\u001b[0m\u001b[0mprint\u001b[0m\u001b[0;34m(\u001b[0m\u001b[0;34m'hi!'\u001b[0m\u001b[0;34m)\u001b[0m\u001b[0;34m\u001b[0m\u001b[0;34m\u001b[0m\u001b[0m\n\u001b[0m\u001b[1;32m     17\u001b[0m     \u001b[0;32mwith\u001b[0m \u001b[0mindent\u001b[0m\u001b[0;34m:\u001b[0m\u001b[0;34m\u001b[0m\u001b[0;34m\u001b[0m\u001b[0m\n\u001b[1;32m     18\u001b[0m         \u001b[0mindent\u001b[0m\u001b[0;34m.\u001b[0m\u001b[0mprint\u001b[0m\u001b[0;34m(\u001b[0m\u001b[0;34m'hello'\u001b[0m\u001b[0;34m)\u001b[0m\u001b[0;34m\u001b[0m\u001b[0;34m\u001b[0m\u001b[0m\n",
      "\u001b[0;31mAttributeError\u001b[0m: 'NoneType' object has no attribute 'print'"
     ]
    }
   ],
   "source": [
    "class Indenter:\n",
    "    def __init__(self):\n",
    "        self.level = 0\n",
    "\n",
    "    def __enter__(self):\n",
    "        self.level += 1\n",
    "    \n",
    "    def __exit__(self, exc_type, exc_val, exc_tb):\n",
    "        self.level -= 1\n",
    "\n",
    "    def print(self, text):\n",
    "        print('    ' * self.level + text)\n",
    "\n",
    "with Indenter() as indent:\n",
    "    print(indent)\n",
    "    indent.print('hi!')\n",
    "    with indent:\n",
    "        indent.print('hello')\n",
    "        with indent:\n",
    "            indent.print('world')\n",
    "    indent.print('hey') "
   ]
  },
  {
   "cell_type": "code",
   "execution_count": 10,
   "metadata": {},
   "outputs": [
    {
     "output_type": "stream",
     "name": "stdout",
     "text": "1\n"
    }
   ],
   "source": [
    "indent = Indenter()\n",
    "indent.print('1')"
   ]
  },
  {
   "cell_type": "markdown",
   "metadata": {},
   "source": [
    "## Underscores\n",
    "\n",
    "### single leading `_`\n",
    "\n",
    "suggested private \n",
    "\n",
    "### double leading `__`\n",
    "\n",
    "python would change such variable name to a new one. a form of stronger suggested private. check examples\n",
    "\n",
    "### double leading/trailing `__`\n",
    "\n",
    "python would not mangle such variables, leave it for magic methods\n",
    "\n",
    "### single `_`\n",
    "\n",
    "just a variable name, REPL use it to reference last variable\n"
   ]
  },
  {
   "cell_type": "markdown",
   "metadata": {},
   "source": [
    "## String formating\n",
    "\n",
    "1. old c-style \n",
    "2. python style\n",
    "3. formatted string literal\n",
    "4. template string (good for user input, for security reasons)"
   ]
  },
  {
   "cell_type": "code",
   "execution_count": 19,
   "metadata": {},
   "outputs": [
    {
     "output_type": "stream",
     "name": "stdout",
     "text": "hello, Bob\nbadc0ffee\nhey Bob, there is 0xbadc0ffee error!\nhey Bob, there is a 0xbadc0ffee error!\nhello, Bob\nhey Bob, there is a 0xbadc0ffee error!\nHello, Bob\ncan do calculations: 15 and 30\nhey Bob, there is a 0xbadc0ffee error!\nInvalid placeholder in string: line 1, col 1\n"
    }
   ],
   "source": [
    "errno = 50159747054\n",
    "name = 'Bob'\n",
    "\n",
    "# c-style\n",
    "print('hello, %s' % name)\n",
    "print('%x' % errno)\n",
    "print('hey %s, there is 0x%x error!' % (name, errno))\n",
    "print('hey %(name)s, there is a 0x%(errno)x error!' % {'name':name, 'errno': errno})\n",
    "\n",
    "# python-style\n",
    "print('hello, {}'.format(name))\n",
    "print('hey {name}, there is a 0x{errno:x} error!'.format(name=name, errno=errno))\n",
    "\n",
    "# formatted string literals\n",
    "print(f'Hello, {name}')\n",
    "a, b = 5, 10\n",
    "print(f'can do calculations: {a + b} and {2 * (a+b)}')\n",
    "print(f'hey {name}, there is a {errno:#x} error!')\n",
    "\n",
    "# template string\n",
    "from string import Template\n",
    "t = Template('hey, $name')\n",
    "t.substitute(name=name)\n",
    "\n",
    "templ_string = 'hey $name, there is a $error error'\n",
    "Template(templ_string).substitute(name=name, error=hex(errno))\n",
    "\n",
    "# template string is safe\n",
    "PASSWORD = 'pass'\n",
    "class Error:\n",
    "    def __init__(self):\n",
    "        pass\n",
    "err = Error()\n",
    "user_input = '{error.__init__.__globals__[PASSWORD]}'\n",
    "user_input.format(error=err)\n",
    "\n",
    "user_input = '${error.__init__.__globals__[PASSWORD]}'\n",
    "try:\n",
    "    Template(user_input).substitute(error=err)\n",
    "except ValueError as e:\n",
    "    print(e)"
   ]
  },
  {
   "cell_type": "code",
   "execution_count": 21,
   "metadata": {},
   "outputs": [
    {
     "output_type": "stream",
     "name": "stdout",
     "text": "The Zen of Python, by Tim Peters\n\nBeautiful is better than ugly.\nExplicit is better than implicit.\nSimple is better than complex.\nComplex is better than complicated.\nFlat is better than nested.\nSparse is better than dense.\nReadability counts.\nSpecial cases aren't special enough to break the rules.\nAlthough practicality beats purity.\nErrors should never pass silently.\nUnless explicitly silenced.\nIn the face of ambiguity, refuse the temptation to guess.\nThere should be one-- and preferably only one --obvious way to do it.\nAlthough that way may not be obvious at first unless you're Dutch.\nNow is better than never.\nAlthough never is often better than *right* now.\nIf the implementation is hard to explain, it's a bad idea.\nIf the implementation is easy to explain, it may be a good idea.\nNamespaces are one honking great idea -- let's do more of those!\n"
    }
   ],
   "source": [
    "import this"
   ]
  },
  {
   "cell_type": "markdown",
   "metadata": {},
   "source": [
    "# Effective Functions\n",
    "\n",
    "## python function are first class\n",
    "\n"
   ]
  },
  {
   "cell_type": "code",
   "execution_count": 23,
   "metadata": {},
   "outputs": [
    {
     "output_type": "stream",
     "name": "stdout",
     "text": "HI, I AM A PYTHON PROGRAM!\nname 'whisper' is not defined\n'function' object has no attribute 'whisper'\n"
    }
   ],
   "source": [
    "def yell(text):\n",
    "    return text.upper() + '!'\n",
    "\n",
    "bark = yell\n",
    "\n",
    "# functions passed to other functions\n",
    "def greet(func):\n",
    "    greeting = func('Hi, I am a Python program')\n",
    "    print(greeting)\n",
    "\n",
    "greet(bark)\n",
    "\n",
    "# function can be nested\n",
    "def speak(text):\n",
    "    def whisper(t):\n",
    "        return t.lower() + '...'\n",
    "    return whisper(text)\n",
    "\n",
    "# but whisper does not exist outside speak\n",
    "try:\n",
    "    whisper('Yo')\n",
    "except NameError as e:\n",
    "    print(e)\n",
    "\n",
    "try:\n",
    "    speak.whisper\n",
    "except AttributeError as e:\n",
    "    print(e) "
   ]
  },
  {
   "cell_type": "markdown",
   "metadata": {},
   "source": [
    "### functions can capture local state\n",
    "\n",
    "the inner functions can capture parent function's state. Functions that do this are called lexical closures (or just closures, for short). A closure remembers the values from its enclosing lexical scope even when the program flow is no longer in that scope.\n",
    "\n",
    "you can pre-config some behaviors to the function you return."
   ]
  },
  {
   "cell_type": "code",
   "execution_count": 25,
   "metadata": {},
   "outputs": [
    {
     "output_type": "execute_result",
     "data": {
      "text/plain": "'HELLO...'"
     },
     "metadata": {},
     "execution_count": 25
    }
   ],
   "source": [
    "def get_speak_func(text, volume):\n",
    "    def whisper():\n",
    "        return text.lower() + '...'\n",
    "    def yell():\n",
    "        return text.upper() + '...'\n",
    "    if volume > 0.5:\n",
    "        return yell\n",
    "    else:\n",
    "        return whisper\n",
    "\n",
    "print(get_speak_func('Hello', 0.7)())"
   ]
  },
  {
   "cell_type": "markdown",
   "metadata": {},
   "source": [
    "### objects can behave like functions through `__call__`"
   ]
  },
  {
   "cell_type": "code",
   "execution_count": 27,
   "metadata": {},
   "outputs": [
    {
     "output_type": "stream",
     "name": "stdout",
     "text": "7\nTrue\n"
    }
   ],
   "source": [
    "class Adder:\n",
    "    def __init__(self, n):\n",
    "        self.n = n\n",
    "    def __call__(self, x):\n",
    "        return self.n + x\n",
    "\n",
    "plus_3 = Adder(3)\n",
    "print(plus_3(4))\n",
    "print(callable(plus_3))"
   ]
  },
  {
   "cell_type": "markdown",
   "metadata": {},
   "source": [
    "## Lambdas\n",
    "\n",
    "it is a single-expression function that are not necessarily bound to a name.\n",
    "\n",
    "it has lexical scope that captures context\n"
   ]
  },
  {
   "cell_type": "code",
   "execution_count": 3,
   "metadata": {},
   "outputs": [
    {
     "output_type": "execute_result",
     "data": {
      "text/plain": "7"
     },
     "metadata": {},
     "execution_count": 3
    }
   ],
   "source": [
    "(lambda x, y: x + y)(3, 4)\n",
    "\n",
    "def make_adder(n):\n",
    "    return lambda x: x + n\n",
    "\n",
    "plus_3 = make_adder(3)\n",
    "plus_5 = make_adder(5)\n",
    "\n",
    "plus_3(4)"
   ]
  },
  {
   "cell_type": "markdown",
   "metadata": {},
   "source": [
    "## Decorators\n",
    "\n",
    "* It uses the * and ** operators in the wrapper closure definition to collect all positional and keyword arguments and stores them in variables (args and kwargs).\n",
    "\n",
    "* The wrapper closure then forwards the collected arguments to the original input function using the * and ** “argument unpacking” operators.\n",
    "\n",
    "* use functional.wrap to keep meta data\n",
    "\n"
   ]
  },
  {
   "cell_type": "code",
   "execution_count": 4,
   "metadata": {},
   "outputs": [
    {
     "output_type": "execute_result",
     "data": {
      "text/plain": "'strongemphyHello'"
     },
     "metadata": {},
     "execution_count": 4
    }
   ],
   "source": [
    "# multiple decorator order\n",
    "\n",
    "def strong(func):\n",
    "    def wrapper():\n",
    "        return 'strong' + func()\n",
    "    return wrapper\n",
    "\n",
    "def emphasis(func):\n",
    "    def wrapper():\n",
    "        return 'emphy' + func()\n",
    "    return wrapper\n",
    "\n",
    "@strong\n",
    "@emphasis\n",
    "def greet():\n",
    "    return \"Hello\"\n",
    "\n",
    "greet()"
   ]
  },
  {
   "cell_type": "code",
   "execution_count": null,
   "metadata": {},
   "outputs": [],
   "source": [
    "# pass arguments\n",
    "\n",
    "def proxy(func):\n",
    "    def wrapper(*args, **kwargs):\n",
    "        return func(*args, **kwargs)\n",
    "    return wrapper"
   ]
  },
  {
   "cell_type": "code",
   "execution_count": 5,
   "metadata": {},
   "outputs": [
    {
     "output_type": "execute_result",
     "data": {
      "text/plain": "'wrapper'"
     },
     "metadata": {},
     "execution_count": 5
    }
   ],
   "source": [
    "# loss of meta data\n",
    "def greet():\n",
    "    \"\"\" greetings \"\"\"\n",
    "\n",
    "def uppercase(func):\n",
    "    def wrapper():\n",
    "        return func().upper()\n",
    "    return wrapper\n",
    "\n",
    "decor_greet = uppercase(greet)\n",
    "decor_greet.__name__"
   ]
  },
  {
   "cell_type": "code",
   "execution_count": 6,
   "metadata": {},
   "outputs": [
    {
     "output_type": "execute_result",
     "data": {
      "text/plain": "'greet'"
     },
     "metadata": {},
     "execution_count": 6
    }
   ],
   "source": [
    "import functools\n",
    "\n",
    "def uppercase(func):\n",
    "    @functools.wraps(func)\n",
    "    def wrapper():\n",
    "        return func().upper()\n",
    "    return wrapper\n",
    "\n",
    "@uppercase\n",
    "def greet():\n",
    "    \"\"\" greetter\"\"\"\n",
    "    return 'hello!'\n",
    "\n",
    "greet.__name__"
   ]
  },
  {
   "cell_type": "markdown",
   "metadata": {},
   "source": [
    "## `*args` and `**kwargs`\n",
    "\n",
    "forwarding optional and keyword args."
   ]
  },
  {
   "cell_type": "code",
   "execution_count": null,
   "metadata": {},
   "outputs": [],
   "source": [
    "def foo(x, *args, **kwargs):\n",
    "    kwargs['name'] = 'Alice'\n",
    "    new_args = args + ('extra', )\n",
    "    bar(x, *new_args, **kwargs)"
   ]
  },
  {
   "cell_type": "markdown",
   "metadata": {},
   "source": [
    "## Function Argument Unpacking\n",
    "\n",
    "all iterable, including generaotr expressions can be unpacked with *. all keyword arguments dictionary can be unpacked with **. Note * on kwargs will unpack keys."
   ]
  },
  {
   "cell_type": "code",
   "execution_count": 11,
   "metadata": {},
   "outputs": [
    {
     "output_type": "stream",
     "name": "stdout",
     "text": "<1, 0, 1>\n<0, 1, 4>\n<1, 3, 5>\n<x, y, z>\n"
    }
   ],
   "source": [
    "def print_3num(x, y, z):\n",
    "    print ('<%s, %s, %s>' % (x, y, z))\n",
    "\n",
    "tup_vec = (1, 0, 1)\n",
    "print_3num(*tup_vec)\n",
    "\n",
    "gen_vec = (x * x for x in range(3))\n",
    "print_3num(*gen_vec)\n",
    "\n",
    "dic_vec = {'x': 1, 'y':3, 'z': 5}\n",
    "print_3num(**dic_vec) # unpact values\n",
    "print_3num(*dic_vec) # unpact keys"
   ]
  },
  {
   "cell_type": "markdown",
   "metadata": {},
   "source": [
    "# Classes and OOP\n",
    "## is vs ==\n",
    "* `==` checks equality\n",
    "* `is` checks address"
   ]
  },
  {
   "cell_type": "code",
   "execution_count": 2,
   "metadata": {},
   "outputs": [
    {
     "output_type": "stream",
     "name": "stdout",
     "text": "True\nTrue\nTrue\nFalse\n"
    }
   ],
   "source": [
    "a = [1, 2, 3]\n",
    "b = a\n",
    "\n",
    "print(a == b)\n",
    "print(a is b)\n",
    "\n",
    "c = list(a)\n",
    "print(c == a)\n",
    "print (c is a)"
   ]
  },
  {
   "cell_type": "markdown",
   "metadata": {},
   "source": [
    "## every class needs a `__repr__`\n",
    "\n",
    "`__str__` is not triggered when stack unwinding. print will call `__repr__` if __str__ is not implemented. "
   ]
  },
  {
   "cell_type": "code",
   "execution_count": 6,
   "metadata": {},
   "outputs": [
    {
     "output_type": "stream",
     "name": "stdout",
     "text": "__str__ for Car\n__str__ for Car\n[__repr__ for Car]\n"
    },
    {
     "output_type": "execute_result",
     "data": {
      "text/plain": "__repr__ for Car"
     },
     "metadata": {},
     "execution_count": 6
    }
   ],
   "source": [
    "class Car:\n",
    "    def __init__(self, color, mileage):\n",
    "        self.color = color\n",
    "        self.mileage = mileage\n",
    "\n",
    "    def __repr__(self):\n",
    "        return '__repr__ for Car'\n",
    "\n",
    "    def __str__(self):\n",
    "        return '__str__ for Car'\n",
    "\n",
    "my_car = Car('red', 1234)\n",
    "print(my_car)\n",
    "print('{}'.format(my_car))\n",
    "print(str([my_car]))\n",
    "my_car"
   ]
  },
  {
   "cell_type": "code",
   "execution_count": 9,
   "metadata": {},
   "outputs": [],
   "source": [
    "# the !r conversion flag make sure the output string uses repr(self.color) instead of str(self.color)\n",
    "def __repr__(self):\n",
    "    return (f'{self.__class__.__name__}('f'{self.color!r}, {self.mileage!r})')"
   ]
  },
  {
   "cell_type": "markdown",
   "metadata": {},
   "source": [
    "## define own exception"
   ]
  },
  {
   "cell_type": "code",
   "execution_count": 10,
   "metadata": {},
   "outputs": [
    {
     "output_type": "error",
     "ename": "NameTooshort",
     "evalue": "a",
     "traceback": [
      "\u001b[0;31m---------------------------------------------------------------------------\u001b[0m",
      "\u001b[0;31mNameTooshort\u001b[0m                              Traceback (most recent call last)",
      "\u001b[0;32m<ipython-input-10-5cac0d8dfc09>\u001b[0m in \u001b[0;36m<module>\u001b[0;34m\u001b[0m\n\u001b[1;32m      6\u001b[0m         \u001b[0;32mraise\u001b[0m \u001b[0mNameTooshort\u001b[0m\u001b[0;34m(\u001b[0m\u001b[0mname\u001b[0m\u001b[0;34m)\u001b[0m\u001b[0;34m\u001b[0m\u001b[0;34m\u001b[0m\u001b[0m\n\u001b[1;32m      7\u001b[0m \u001b[0;34m\u001b[0m\u001b[0m\n\u001b[0;32m----> 8\u001b[0;31m \u001b[0mvalidate\u001b[0m\u001b[0;34m(\u001b[0m\u001b[0;34m'a'\u001b[0m\u001b[0;34m)\u001b[0m\u001b[0;34m\u001b[0m\u001b[0;34m\u001b[0m\u001b[0m\n\u001b[0m",
      "\u001b[0;32m<ipython-input-10-5cac0d8dfc09>\u001b[0m in \u001b[0;36mvalidate\u001b[0;34m(name)\u001b[0m\n\u001b[1;32m      4\u001b[0m \u001b[0;32mdef\u001b[0m \u001b[0mvalidate\u001b[0m\u001b[0;34m(\u001b[0m\u001b[0mname\u001b[0m\u001b[0;34m)\u001b[0m\u001b[0;34m:\u001b[0m\u001b[0;34m\u001b[0m\u001b[0;34m\u001b[0m\u001b[0m\n\u001b[1;32m      5\u001b[0m     \u001b[0;32mif\u001b[0m \u001b[0mlen\u001b[0m\u001b[0;34m(\u001b[0m\u001b[0mname\u001b[0m\u001b[0;34m)\u001b[0m \u001b[0;34m<\u001b[0m \u001b[0;36m10\u001b[0m\u001b[0;34m:\u001b[0m\u001b[0;34m\u001b[0m\u001b[0;34m\u001b[0m\u001b[0m\n\u001b[0;32m----> 6\u001b[0;31m         \u001b[0;32mraise\u001b[0m \u001b[0mNameTooshort\u001b[0m\u001b[0;34m(\u001b[0m\u001b[0mname\u001b[0m\u001b[0;34m)\u001b[0m\u001b[0;34m\u001b[0m\u001b[0;34m\u001b[0m\u001b[0m\n\u001b[0m\u001b[1;32m      7\u001b[0m \u001b[0;34m\u001b[0m\u001b[0m\n\u001b[1;32m      8\u001b[0m \u001b[0mvalidate\u001b[0m\u001b[0;34m(\u001b[0m\u001b[0;34m'a'\u001b[0m\u001b[0;34m)\u001b[0m\u001b[0;34m\u001b[0m\u001b[0;34m\u001b[0m\u001b[0m\n",
      "\u001b[0;31mNameTooshort\u001b[0m: a"
     ]
    }
   ],
   "source": [
    "class NameTooshort(ValueError):\n",
    "    pass\n",
    "\n",
    "def validate(name):\n",
    "    if len(name) < 10:\n",
    "        raise NameTooshort(name)\n",
    "\n",
    "validate('a')"
   ]
  },
  {
   "cell_type": "markdown",
   "metadata": {},
   "source": [
    "## cloning objects\n",
    "\n",
    "build in copy is shallow\n",
    "```python\n",
    "newlist = list(originallist)\n",
    "newdict = dict(originaldict)\n",
    "newset = set(originalset)\n",
    "```\n",
    "\n",
    "use `deepcopy` to deepcopy, use `copy` to explicit shallow copy for customized types, use list/dict/set to shallow copy.\n",
    "\n",
    "you can control the class behavior using `__copy__()` and `__deepcopy__()`"
   ]
  },
  {
   "cell_type": "code",
   "execution_count": 13,
   "metadata": {},
   "outputs": [
    {
     "output_type": "stream",
     "name": "stdout",
     "text": "[[1, 2, 3], ['x', 5, 6], [7, 8, 9]]\n[[1, 2, 3], ['x', 5, 6], [7, 8, 9]]\n"
    }
   ],
   "source": [
    "xs = [[1, 2, 3], [4, 5, 6], [7, 8, 9]]\n",
    "ys = list(xs)\n",
    "xs[1][0] = 'x'\n",
    "print(ys)\n",
    "\n",
    "import copy\n",
    "zs = copy.deepcopy(xs)\n",
    "xs[1][1]='u'\n",
    "print(zs)"
   ]
  },
  {
   "cell_type": "code",
   "execution_count": 17,
   "metadata": {},
   "outputs": [
    {
     "output_type": "stream",
     "name": "stdout",
     "text": "False\nPoint(23, 42)\n"
    }
   ],
   "source": [
    "class Point:\n",
    "    def __init__(self, x, y):\n",
    "        self.x = x\n",
    "        self.y = y\n",
    "    def __repr__(self):\n",
    "        return f'Point({self.x!r}, {self.y!r})'\n",
    "\n",
    "a = Point(23, 42)\n",
    "b = copy.copy(a)         # the primitive type shallow = deep\n",
    "\n",
    "print(a is b)\n",
    "a.x = 32\n",
    "\n",
    "print(b)"
   ]
  },
  {
   "cell_type": "code",
   "execution_count": 21,
   "metadata": {},
   "outputs": [
    {
     "output_type": "stream",
     "name": "stdout",
     "text": "Rectangle(Point(999, 1), Point(5, 6))\nRectangle(Point(999, 1), Point(5, 6))\nRectangle(Point(0, 1), Point(5, 6))\n"
    }
   ],
   "source": [
    "class Rectangle:\n",
    "    def __init__(self, topleft, bottomright):\n",
    "        self.topleft = topleft\n",
    "        self.bottomright = bottomright\n",
    "\n",
    "    def __repr__(self):\n",
    "        return (f'Rectangle({self.topleft!r}, 'f'{self.bottomright!r})')\n",
    "\n",
    "r1 = Rectangle(Point(0, 1), Point(5, 6))\n",
    "r2 = copy.copy(r1)\n",
    "r3 = copy.deepcopy(r1)\n",
    "\n",
    "r1.topleft.x = 999\n",
    "print(r1)\n",
    "print(r2)\n",
    "print(r3)\n"
   ]
  },
  {
   "cell_type": "markdown",
   "metadata": {},
   "source": [
    "## Abstract Base Classes\n",
    "\n",
    "we need the to define the interface\n",
    "1. instantiating the base class is impossible\n",
    "2. forgetting implementing any interface methods will raise error"
   ]
  },
  {
   "cell_type": "code",
   "execution_count": 22,
   "metadata": {},
   "outputs": [
    {
     "output_type": "error",
     "ename": "TypeError",
     "evalue": "Can't instantiate abstract class Concrete with abstract methods bar",
     "traceback": [
      "\u001b[0;31m---------------------------------------------------------------------------\u001b[0m",
      "\u001b[0;31mTypeError\u001b[0m                                 Traceback (most recent call last)",
      "\u001b[0;32m<ipython-input-22-d49109a1e8b4>\u001b[0m in \u001b[0;36m<module>\u001b[0;34m\u001b[0m\n\u001b[1;32m     15\u001b[0m     \u001b[0;31m# no bar()\u001b[0m\u001b[0;34m\u001b[0m\u001b[0;34m\u001b[0m\u001b[0;34m\u001b[0m\u001b[0m\n\u001b[1;32m     16\u001b[0m \u001b[0;34m\u001b[0m\u001b[0m\n\u001b[0;32m---> 17\u001b[0;31m \u001b[0mc\u001b[0m \u001b[0;34m=\u001b[0m \u001b[0mConcrete\u001b[0m\u001b[0;34m(\u001b[0m\u001b[0;34m)\u001b[0m\u001b[0;34m\u001b[0m\u001b[0;34m\u001b[0m\u001b[0m\n\u001b[0m",
      "\u001b[0;31mTypeError\u001b[0m: Can't instantiate abstract class Concrete with abstract methods bar"
     ]
    }
   ],
   "source": [
    "from abc import ABCMeta, abstractclassmethod\n",
    "\n",
    "class Base(metaclass=ABCMeta):\n",
    "    @abstractclassmethod\n",
    "    def foo(self):\n",
    "        pass\n",
    "\n",
    "    @abstractclassmethod\n",
    "    def bar(self):\n",
    "        pass\n",
    "\n",
    "class Concrete(Base):\n",
    "    def foo(self):\n",
    "        pass\n",
    "    # no bar()\n",
    "\n",
    "c = Concrete()"
   ]
  },
  {
   "cell_type": "markdown",
   "metadata": {},
   "source": [
    "## Namedtuples for read only dictionary\n",
    "\n",
    "tuple is good, but you can not name index it. \n",
    "* 1st string property is the variable name, good for debug __repr__\n",
    "* space delimited string is a syntax sugar for \\[color, mileage\\]"
   ]
  },
  {
   "cell_type": "code",
   "execution_count": 28,
   "metadata": {},
   "outputs": [
    {
     "output_type": "stream",
     "name": "stdout",
     "text": "red\n3000\nred\nred\n3000\nCar(color='red', mileage=3000)\n"
    }
   ],
   "source": [
    "from collections import namedtuple\n",
    "\n",
    "Car = namedtuple('Car', 'color mileage')\n",
    "my_car = Car('red', 3000)\n",
    "print(my_car.color)\n",
    "print(my_car.mileage)\n",
    "print(my_car[0])\n",
    "tuple(my_car)\n",
    "\n",
    "color, mileage = my_car\n",
    "print(color)\n",
    "print(mileage)\n",
    "print(my_car)"
   ]
  },
  {
   "cell_type": "code",
   "execution_count": 29,
   "metadata": {},
   "outputs": [
    {
     "output_type": "error",
     "ename": "AttributeError",
     "evalue": "can't set attribute",
     "traceback": [
      "\u001b[0;31m---------------------------------------------------------------------------\u001b[0m",
      "\u001b[0;31mAttributeError\u001b[0m                            Traceback (most recent call last)",
      "\u001b[0;32m<ipython-input-29-e90fb8d7961f>\u001b[0m in \u001b[0;36m<module>\u001b[0;34m\u001b[0m\n\u001b[1;32m      1\u001b[0m \u001b[0;31m# property is const\u001b[0m\u001b[0;34m\u001b[0m\u001b[0;34m\u001b[0m\u001b[0;34m\u001b[0m\u001b[0m\n\u001b[0;32m----> 2\u001b[0;31m \u001b[0mmy_car\u001b[0m\u001b[0;34m.\u001b[0m\u001b[0mcolor\u001b[0m \u001b[0;34m=\u001b[0m \u001b[0;34m'blue'\u001b[0m\u001b[0;34m\u001b[0m\u001b[0;34m\u001b[0m\u001b[0m\n\u001b[0m",
      "\u001b[0;31mAttributeError\u001b[0m: can't set attribute"
     ]
    }
   ],
   "source": [
    "# property is const\n",
    "my_car.color = 'blue'"
   ]
  },
  {
   "cell_type": "markdown",
   "metadata": {},
   "source": [
    "the proper way to subclass a named tuple and add more constant attributes are not subclass, but use `_fields`"
   ]
  },
  {
   "cell_type": "code",
   "execution_count": 31,
   "metadata": {},
   "outputs": [
    {
     "output_type": "execute_result",
     "data": {
      "text/plain": "ElectricCar(color='red', mileage=3222, charge=45.0)"
     },
     "metadata": {},
     "execution_count": 31
    }
   ],
   "source": [
    "ElectricCar = namedtuple('ElectricCar', Car._fields + ('charge',))\n",
    "ElectricCar('red', 3222, 45.0)"
   ]
  },
  {
   "cell_type": "markdown",
   "metadata": {},
   "source": [
    "there are many built-in helpers starts with `_`:\n",
    "* `_asdict` turn into dictionary\n",
    "* `_replace` shallow copy a tuple and allows to selectively replace some fields\n",
    "* `_make` turns a iteratable (tuple, list, set) into a namedtuple"
   ]
  },
  {
   "cell_type": "code",
   "execution_count": 34,
   "metadata": {},
   "outputs": [
    {
     "output_type": "stream",
     "name": "stdout",
     "text": "OrderedDict([('color', 'red'), ('mileage', 3000)])\nCar(color='blue', mileage=3000)\nCar(color='red', mileage=999)\n"
    }
   ],
   "source": [
    "print(my_car._asdict())\n",
    "\n",
    "print(my_car._replace(color='blue'))\n",
    "\n",
    "print(Car._make(['red', 999]))"
   ]
  },
  {
   "cell_type": "markdown",
   "metadata": {},
   "source": [
    "## Class vs Instanve Variable Pitfalls\n",
    "\n",
    "* class variables are shared among instances\n",
    "* instance can read only class variables, but once it sets value, it will create a instance level varialbe, and shaddow the class variable "
   ]
  },
  {
   "cell_type": "code",
   "execution_count": 40,
   "metadata": {},
   "outputs": [
    {
     "output_type": "stream",
     "name": "stdout",
     "text": "4 4 4\n6 6 6\n6 4 4\n6 4\n"
    }
   ],
   "source": [
    "class Dog:\n",
    "    numlegs = 4\n",
    "    def __init__(self, name):\n",
    "        self.name = name\n",
    "\n",
    "jack = Dog('jack')\n",
    "jill = Dog('jill')\n",
    "\n",
    "print(jack.numlegs, jill.numlegs, Dog.numlegs)\n",
    "\n",
    "Dog.numlegs = 6\n",
    "print(jack.numlegs, jill.numlegs, Dog.numlegs)\n",
    "\n",
    "Dog.numlegs = 4\n",
    "jack.numlegs = 6        # shaddows class property\n",
    "print(jack.numlegs, jill.numlegs, Dog.numlegs)\n",
    "\n",
    "print(jack.numlegs, jack.__class__.numlegs)\n"
   ]
  },
  {
   "cell_type": "markdown",
   "metadata": {},
   "source": [
    "## Instance, Class and Static Methods \n",
    "\n",
    "* instance methods can access class itself through `self._class__` attribute, so that to modify class state\n",
    "* class methods only has access to cls, it cannot modify state of instance, but it can modify class state across all instances.\n",
    "* static method cannot modify object state or class state. it is restricted in what data they can access, they're primarily used as namespace your methods. "
   ]
  },
  {
   "cell_type": "code",
   "execution_count": 43,
   "metadata": {},
   "outputs": [
    {
     "output_type": "execute_result",
     "data": {
      "text/plain": "('instance method called', <__main__.MyClass at 0x7f303d3cab90>)"
     },
     "metadata": {},
     "execution_count": 43
    }
   ],
   "source": [
    "class MyClass:\n",
    "    def method(self):\n",
    "        return 'instance method called', self\n",
    "\n",
    "    @classmethod\n",
    "    def classmethod(cls):\n",
    "        return 'class method called', cls\n",
    "\n",
    "    @staticmethod\n",
    "    def staticmethod():\n",
    "        return 'static method called'\n",
    "\n",
    "obj = MyClass()\n",
    "obj.method()"
   ]
  },
  {
   "cell_type": "code",
   "execution_count": 45,
   "metadata": {},
   "outputs": [
    {
     "output_type": "execute_result",
     "data": {
      "text/plain": "('instance method called', <__main__.MyClass at 0x7f303d3cab90>)"
     },
     "metadata": {},
     "execution_count": 45
    }
   ],
   "source": [
    "# alternative way to call obj.method(), explicity pass obj to self\n",
    "MyClass.method(obj) "
   ]
  },
  {
   "cell_type": "code",
   "execution_count": 47,
   "metadata": {},
   "outputs": [
    {
     "output_type": "execute_result",
     "data": {
      "text/plain": "('class method called', __main__.MyClass)"
     },
     "metadata": {},
     "execution_count": 47
    }
   ],
   "source": [
    "# obj access self.__class__ attribute and call the class method\n",
    "obj.classmethod()"
   ]
  },
  {
   "cell_type": "code",
   "execution_count": 48,
   "metadata": {},
   "outputs": [
    {
     "output_type": "execute_result",
     "data": {
      "text/plain": "'static method called'"
     },
     "metadata": {},
     "execution_count": 48
    }
   ],
   "source": [
    "# obj access static method\n",
    "obj.staticmethod()"
   ]
  },
  {
   "cell_type": "code",
   "execution_count": 50,
   "metadata": {},
   "outputs": [
    {
     "output_type": "execute_result",
     "data": {
      "text/plain": "('class method called', __main__.MyClass)"
     },
     "metadata": {},
     "execution_count": 50
    }
   ],
   "source": [
    "MyClass.classmethod()"
   ]
  },
  {
   "cell_type": "code",
   "execution_count": 52,
   "metadata": {},
   "outputs": [
    {
     "output_type": "execute_result",
     "data": {
      "text/plain": "'static method called'"
     },
     "metadata": {},
     "execution_count": 52
    }
   ],
   "source": [
    "MyClass.staticmethod()\n"
   ]
  },
  {
   "cell_type": "code",
   "execution_count": 53,
   "metadata": {},
   "outputs": [
    {
     "output_type": "error",
     "ename": "TypeError",
     "evalue": "method() missing 1 required positional argument: 'self'",
     "traceback": [
      "\u001b[0;31m---------------------------------------------------------------------------\u001b[0m",
      "\u001b[0;31mTypeError\u001b[0m                                 Traceback (most recent call last)",
      "\u001b[0;32m<ipython-input-53-88f17b4fa117>\u001b[0m in \u001b[0;36m<module>\u001b[0;34m\u001b[0m\n\u001b[0;32m----> 1\u001b[0;31m \u001b[0mMyClass\u001b[0m\u001b[0;34m.\u001b[0m\u001b[0mmethod\u001b[0m\u001b[0;34m(\u001b[0m\u001b[0;34m)\u001b[0m\u001b[0;34m\u001b[0m\u001b[0;34m\u001b[0m\u001b[0m\n\u001b[0m",
      "\u001b[0;31mTypeError\u001b[0m: method() missing 1 required positional argument: 'self'"
     ]
    }
   ],
   "source": [
    "MyClass.method()"
   ]
  },
  {
   "cell_type": "markdown",
   "metadata": {},
   "source": [
    "### class method for factory pattern\n",
    "\n",
    "python allow one `__init__` per class, but class methods can make many constructors"
   ]
  },
  {
   "cell_type": "code",
   "execution_count": 9,
   "metadata": {},
   "outputs": [
    {
     "output_type": "stream",
     "name": "stdout",
     "text": "Pizza(2, ['mozzarella', 'tomatoes'])\nPizza(4, ['mozzarella', 'tomatoes', 'ham'])\n50.26548245743669\n"
    },
    {
     "output_type": "execute_result",
     "data": {
      "text/plain": "50.26548245743669"
     },
     "metadata": {},
     "execution_count": 9
    }
   ],
   "source": [
    "import math\n",
    "\n",
    "class Pizza:\n",
    "    def __init__(self, radius, ingredients):\n",
    "        self.radius = radius\n",
    "        self.ingredients = ingredients\n",
    "    def __repr__(self):\n",
    "        return (f'Pizza({self.radius!r}, {self.ingredients!r})')\n",
    "\n",
    "    @classmethod\n",
    "    def margherita(cls):\n",
    "        return cls(2, ['mozzarella', 'tomatoes'])\n",
    "    @classmethod\n",
    "    def prosciutto(cls):\n",
    "        return cls(4, ['mozzarella', 'tomatoes', 'ham'])\n",
    "\n",
    "    def area(self):\n",
    "        return self.circle_area(self.radius)\n",
    "    \n",
    "    # not allow to modify class state\n",
    "    @staticmethod\n",
    "    def circle_area(r):\n",
    "        return r ** 2 * math.pi\n",
    "\n",
    "print(Pizza.margherita())\n",
    "\n",
    "p = Pizza.prosciutto()\n",
    "print(p)\n",
    "\n",
    "print(p.area())\n",
    "Pizza.circle_area(4)"
   ]
  }
 ],
 "metadata": {
  "language_info": {
   "name": "python",
   "codemirror_mode": {
    "name": "ipython",
    "version": 3
   },
   "version": "3.7.6-final"
  },
  "orig_nbformat": 2,
  "file_extension": ".py",
  "mimetype": "text/x-python",
  "name": "python",
  "npconvert_exporter": "python",
  "pygments_lexer": "ipython3",
  "version": 3,
  "kernelspec": {
   "name": "python3",
   "display_name": "Python 3"
  }
 },
 "nbformat": 4,
 "nbformat_minor": 2
}